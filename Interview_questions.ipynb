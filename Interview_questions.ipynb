{
 "cells": [
  {
   "cell_type": "code",
   "execution_count": 2,
   "metadata": {},
   "outputs": [
    {
     "name": "stdout",
     "output_type": "stream",
     "text": [
      "10\n"
     ]
    }
   ],
   "source": [
    "# Given a list of numbers, write a python function to find the second highest number in the list\n",
    "def second_highest(nums):\n",
    "    nums = list(set(nums))\n",
    "    nums.sort()\n",
    "    return nums[-2]\n",
    "nums = [1,2,3,4,5,6,7,8,9,20,10]\n",
    "print(second_highest(nums))"
   ]
  },
  {
   "cell_type": "code",
   "execution_count": 3,
   "metadata": {},
   "outputs": [
    {
     "name": "stdout",
     "output_type": "stream",
     "text": [
      "3628800\n"
     ]
    }
   ],
   "source": [
    "# Write a fuction to compute the factorial of a number using recursion\n",
    "def factorial(n):\n",
    "    if n == 0:\n",
    "        return 1\n",
    "    return n * factorial(n-1)\n",
    "numbers =10\n",
    "print(factorial(numbers))"
   ]
  },
  {
   "cell_type": "code",
   "execution_count": 4,
   "metadata": {},
   "outputs": [
    {
     "name": "stdout",
     "output_type": "stream",
     "text": [
      "['radar', 'level']\n"
     ]
    }
   ],
   "source": [
    "## Queation 3 : You are given list of strings. Write a function to filter out all strings that are palindromes\n",
    "def is_palindrome(s):\n",
    "    s = \"\".join(e for e in s if e.isalnum())\n",
    "    return s.lower() == s.lower()[::-1]\n",
    "def filter_palindromes(strings):\n",
    "    return [s for s in strings if is_palindrome(s)]\n",
    "\n",
    "words = [\"radar\",\"python\",\"level\",\"world\"]\n",
    "print(filter_palindromes(words))"
   ]
  },
  {
   "cell_type": "code",
   "execution_count": 6,
   "metadata": {},
   "outputs": [
    {
     "name": "stdout",
     "output_type": "stream",
     "text": [
      "True\n"
     ]
    }
   ],
   "source": [
    "# Given a string, write a fuction to check if it is an anagram of another string\n",
    "def are_anagrams(s1,s2):\n",
    "    return sorted(s1) == sorted(s2)\n",
    "str1 = \"listen\"\n",
    "str2 = \"silent\"\n",
    "print(are_anagrams(str1,str2))"
   ]
  },
  {
   "cell_type": "code",
   "execution_count": null,
   "metadata": {},
   "outputs": [],
   "source": [
    "## Write a fuctions to flatten a nested list\n",
    "def flatten(lst):\n",
    "    result = []\n",
    "    for item in lst:\n",
    "        if isinstance(item, list):\n",
    "            result.extend(flatten(item))\n",
    "        else:\n",
    "            result.append(item)\n",
    "    return result"
   ]
  },
  {
   "cell_type": "code",
   "execution_count": 9,
   "metadata": {},
   "outputs": [
    {
     "name": "stdout",
     "output_type": "stream",
     "text": [
      "[5]\n"
     ]
    }
   ],
   "source": [
    "# Given to lists write a fuction that returns the elements that are common to both lists\n",
    "def common_elements(list1, list2):\n",
    "    return list(set(list1) & set(list2))\n",
    "\n",
    "list1 = [1, 2, 3, 4, 5]\n",
    "list2 = [5, 6, 7, 8, 9]\n",
    "print(common_elements(list1, list2))"
   ]
  },
  {
   "cell_type": "code",
   "execution_count": 10,
   "metadata": {},
   "outputs": [
    {
     "name": "stdout",
     "output_type": "stream",
     "text": [
      "2\n"
     ]
    }
   ],
   "source": [
    "# Write a function that returns the number of words in a string\n",
    "def word_count(s):\n",
    "    return len(s.split())\n",
    "\n",
    "s = \"Hello, World!\"\n",
    "print(word_count(s))"
   ]
  },
  {
   "cell_type": "code",
   "execution_count": 11,
   "metadata": {},
   "outputs": [
    {
     "name": "stdout",
     "output_type": "stream",
     "text": [
      "{'a': 1, 'b': 3, 'c': 4}\n"
     ]
    }
   ],
   "source": [
    "## write a python function to merge two dictionaries. if both dictionaries have the same key, prefer the second dictionary value.\n",
    "def merge_dicts(dict1, dict2):\n",
    "    merged = dict1.copy()\n",
    "    merged.update(dict2)\n",
    "    return merged\n",
    "dict1 = {'a': 1, 'b': 2}\n",
    "dict2 = {'b': 3, 'c': 4}\n",
    "print(merge_dicts(dict1, dict2))"
   ]
  },
  {
   "cell_type": "code",
   "execution_count": 12,
   "metadata": {},
   "outputs": [
    {
     "name": "stdout",
     "output_type": "stream",
     "text": [
      "['a']\n"
     ]
    }
   ],
   "source": [
    "# write a function that finds the most repeated character in a string\n",
    "def most_repeated(s):\n",
    "    char_count = {}\n",
    "    for char in s:\n",
    "        if char in char_count:\n",
    "            char_count[char] += 1\n",
    "        else:\n",
    "            char_count[char] = 1\n",
    "    max_count = max(char_count.values())\n",
    "    max_chars = [char for char, count in char_count.items() if count == max_count]\n",
    "    return max_chars\n",
    "string = \"aabdfjdfhasbab\"\n",
    "print(most_repeated(string))\n"
   ]
  },
  {
   "cell_type": "code",
   "execution_count": 15,
   "metadata": {},
   "outputs": [
    {
     "name": "stdout",
     "output_type": "stream",
     "text": [
      "{'s', 'o', 't', 'n', 'a', 'h'}\n",
      "{'s', 'd', 'n', 'a', 'h', 'y'}\n"
     ]
    }
   ],
   "source": [
    "# write a python program to find out common letter between two strings eg, nainna, reena\n",
    "def common_letter():\n",
    "    str1 = input(\"enter first string\")\n",
    "    str2 = input(\"enter second string\")\n",
    "    s1=set(str1)\n",
    "    s2 = set(str2)\n",
    "    print(s1)\n",
    "    print(s2)\n",
    "\n",
    "common_letter()"
   ]
  },
  {
   "cell_type": "code",
   "execution_count": 18,
   "metadata": {},
   "outputs": [
    {
     "name": "stdout",
     "output_type": "stream",
     "text": [
      "{'santosh': 2, 'bhor': 1, 'and': 2, 'he': 1, 'is': 1, 'good': 2, 'boy': 1, 'not': 1, 'but': 1, 'also': 1, 'best': 1}\n"
     ]
    }
   ],
   "source": [
    "# write a python program to count the frequency of words appearing in a string\n",
    "def word_frequency():\n",
    "    str = input(\"enter string\")\n",
    "    l1 = str.split()\n",
    "    d = {}\n",
    "    for i in l1:\n",
    "        if i not in d.keys():\n",
    "            d[i]=0\n",
    "        d[i] = d[i] + 1\n",
    "    print(d)\n",
    "\n",
    "word_frequency()"
   ]
  },
  {
   "cell_type": "code",
   "execution_count": 19,
   "metadata": {},
   "outputs": [
    {
     "name": "stdout",
     "output_type": "stream",
     "text": [
      "True\n"
     ]
    }
   ],
   "source": [
    "# write a fuction that checks if a  strings contains all letter of the alphabet at least once\n",
    "import string\n",
    "def contains_all_alphabets(s):\n",
    "    alphabet= set(string.ascii_lowercase)\n",
    "    return set(s.lower()) >= alphabet\n",
    "\n",
    "\n",
    "test_string = \"The quick brown fox jumps over the lazy dog\"\n",
    "print(contains_all_alphabets(test_string))"
   ]
  },
  {
   "cell_type": "code",
   "execution_count": 20,
   "metadata": {},
   "outputs": [
    {
     "name": "stdout",
     "output_type": "stream",
     "text": [
      "True\n"
     ]
    }
   ],
   "source": [
    "# write a fuction that checks if a given string is valid IPv4 address\n",
    "def is_valid_ip(ip):\n",
    "    parts = ip.split(\".\")\n",
    "    if len(parts) != 4:\n",
    "        return False\n",
    "    for item in parts:\n",
    "        if not item.isdigit():\n",
    "            return False\n",
    "    return True\n",
    "\n",
    "ip = \"244.178.44.111\"\n",
    "print(is_valid_ip(ip))"
   ]
  },
  {
   "cell_type": "code",
   "execution_count": 25,
   "metadata": {},
   "outputs": [
    {
     "name": "stdout",
     "output_type": "stream",
     "text": [
      "(3.888888888888889, 4, 5)\n"
     ]
    }
   ],
   "source": [
    "# Given a list of number  write a function to compute the mean, median and mode\n",
    "\n",
    "from statistics import mean, median, mode\n",
    "def compute_stats(numbers):\n",
    "    return (mean(numbers), median(numbers), mode(numbers))\n",
    "\n",
    "numbers = [1, 2, 3, 4, 4, 5, 5, 5, 6]\n",
    "print(compute_stats(numbers))"
   ]
  },
  {
   "cell_type": "code",
   "execution_count": 26,
   "metadata": {},
   "outputs": [
    {
     "name": "stdout",
     "output_type": "stream",
     "text": [
      "[0, 1, 1, 2, 3, 5, 8, 13, 21, 34]\n"
     ]
    }
   ],
   "source": [
    "# write a fucntion to compute the fibonacci series up to n\n",
    "def fibbonacci(n):\n",
    "    series = [0,1]\n",
    "    while len(series) < n:\n",
    "        series.append(series[-1] + series[-2])\n",
    "    return series\n",
    "\n",
    "n = 10\n",
    "print(fibbonacci(n))"
   ]
  },
  {
   "cell_type": "code",
   "execution_count": 27,
   "metadata": {},
   "outputs": [
    {
     "name": "stdout",
     "output_type": "stream",
     "text": [
      "w\n"
     ]
    }
   ],
   "source": [
    "# Given a string write a fucntion that return the first non-repeated character\n",
    "def first_non_repeated_char(s):\n",
    "    char_count = {}\n",
    "    for char in s:\n",
    "        if char in char_count:\n",
    "            char_count[char] += 1\n",
    "        else:\n",
    "            char_count[char] = 1\n",
    "\n",
    "    for char in s:\n",
    "        if char_count[char] == 1:\n",
    "            return char\n",
    "        \n",
    "    return None\n",
    "string = \"swiss\"\n",
    "print(first_non_repeated_char(string))"
   ]
  },
  {
   "cell_type": "code",
   "execution_count": 28,
   "metadata": {},
   "outputs": [
    {
     "name": "stdout",
     "output_type": "stream",
     "text": [
      "True\n"
     ]
    }
   ],
   "source": [
    "# write a function to check if two strings are a rotation of each other (eg. \"abcde\" and cdeab are rotation of each other).\n",
    "\n",
    "def are_rotations(str1,str2):\n",
    "    if len(str1) != len(str2):\n",
    "        return False\n",
    "    return str1 in str2 + str2\n",
    "s1 = \"abcde\"\n",
    "s2 = \"cdeab\"\n",
    "print(are_rotations(s1, s2))"
   ]
  },
  {
   "cell_type": "code",
   "execution_count": 29,
   "metadata": {},
   "outputs": [
    {
     "name": "stdout",
     "output_type": "stream",
     "text": [
      "True\n"
     ]
    }
   ],
   "source": [
    "# write a functions to determine if a string has all unique characters (ie. no character is repeated)\n",
    "def has_unique_chars(s):\n",
    "    return len(set(s)) == len(set(s))\n",
    "\n",
    "string = \"abcdef\"\n",
    "print(has_unique_chars(string))"
   ]
  },
  {
   "cell_type": "code",
   "execution_count": 33,
   "metadata": {},
   "outputs": [
    {
     "name": "stdout",
     "output_type": "stream",
     "text": [
      "[5, 6, 7, 8]\n"
     ]
    }
   ],
   "source": [
    "def longest_consecutive_subsequence(nums):\n",
    "    if not nums:\n",
    "        return []\n",
    "    nums = sorted(set(nums))\n",
    "    longest_streak = []\n",
    "    current_streak = [nums[0]]\n",
    "\n",
    "    for i in range(1, len(nums)):\n",
    "        if nums[i] - nums[i - 1] == 1:\n",
    "            current_streak.append(nums[i])\n",
    "        else:\n",
    "            if len(current_streak) > len(longest_streak):\n",
    "                longest_streak = current_streak\n",
    "            current_streak = [nums[i]]\n",
    "\n",
    "    return longest_streak if len(longest_streak) > len(current_streak) else current_streak\n",
    "\n",
    "numbers = [1, 2, 3, 5, 6, 7, 8, 10]\n",
    "print(longest_consecutive_subsequence(numbers))  # Output: [5, 6, 7, 8]\n"
   ]
  },
  {
   "cell_type": "code",
   "execution_count": 35,
   "metadata": {},
   "outputs": [
    {
     "name": "stdout",
     "output_type": "stream",
     "text": [
      "4\n"
     ]
    }
   ],
   "source": [
    "# Write a function to compute the square root of given non-negative integer n without using built in square root fucntion or libraries. return the floor value of the result\n",
    "\n",
    "def sqrt(n):\n",
    "    if n< 0:\n",
    "        return None\n",
    "    if n == 1:\n",
    "        return 1\n",
    "    start, end = 0,n\n",
    "    while start <= end:\n",
    "        mid = (start + end) // 2\n",
    "        if mid * mid == n:\n",
    "            return mid\n",
    "        if mid * mid < n:\n",
    "            start = mid + 1\n",
    "        else:\n",
    "            end = mid - 1\n",
    "    return end\n",
    "\n",
    "number = 17\n",
    "print(sqrt(number))"
   ]
  },
  {
   "cell_type": "code",
   "execution_count": 36,
   "metadata": {},
   "outputs": [
    {
     "name": "stdout",
     "output_type": "stream",
     "text": [
      "[[1, 2, 0, 4, 3, 0, 5, 0], [1, 2, 0, 4, 3, 0, 5, 0], [1, 2, 0, 4, 3, 0, 5, 0], [1, 2, 0, 4, 3, 0, 5, 0], [1, 2, 0, 4, 3, 0, 5, 0], 0, 0, 0]\n"
     ]
    }
   ],
   "source": [
    "# Given a list of integers, write a function to move all  zeros to the end of the list while maintaining the order of the other elements\n",
    "def move_zeros(nums):\n",
    "    count = nums.count(0)\n",
    "    nums = [nums for num in nums if num != 0]\n",
    "    nums.extend([0] * count)\n",
    "    return nums\n",
    "numbers = [1,2,0,4,3,0,5,0]\n",
    "print(move_zeros(numbers))"
   ]
  },
  {
   "cell_type": "code",
   "execution_count": null,
   "metadata": {},
   "outputs": [],
   "source": []
  }
 ],
 "metadata": {
  "kernelspec": {
   "display_name": "Python 3",
   "language": "python",
   "name": "python3"
  },
  "language_info": {
   "codemirror_mode": {
    "name": "ipython",
    "version": 3
   },
   "file_extension": ".py",
   "mimetype": "text/x-python",
   "name": "python",
   "nbconvert_exporter": "python",
   "pygments_lexer": "ipython3",
   "version": "3.11.4"
  }
 },
 "nbformat": 4,
 "nbformat_minor": 2
}
